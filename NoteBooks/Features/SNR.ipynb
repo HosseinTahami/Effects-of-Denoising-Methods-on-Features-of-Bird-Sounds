{
 "cells": [
  {
   "cell_type": "code",
   "execution_count": 28,
   "id": "39f7a1d6",
   "metadata": {},
   "outputs": [],
   "source": [
    "import numpy as np\n",
    "import librosa\n",
    "import librosa.display\n",
    "import pywt\n",
    "import matplotlib.pyplot as plt\n",
    "from scipy.ndimage import gaussian_filter1d"
   ]
  },
  {
   "cell_type": "code",
   "execution_count": 29,
   "id": "6ade6f30",
   "metadata": {},
   "outputs": [],
   "source": [
    "y_clean, sr = librosa.load('../../Data/mCco09-05.wav')\n",
    "y_noisy = y_clean + np.random.normal(0, 0.02, size=y_clean.shape)\n",
    "y_denoised = gaussian_filter1d(y_noisy, sigma=2)"
   ]
  },
  {
   "cell_type": "code",
   "execution_count": 30,
   "id": "72e3915f",
   "metadata": {},
   "outputs": [],
   "source": [
    "def compute_snr(clean, processed):\n",
    "    noise = processed - clean\n",
    "    power_signal = np.mean(clean**2)\n",
    "    power_noise  = np.mean(noise**2)\n",
    "    return 10 * np.log10(power_signal / power_noise)"
   ]
  },
  {
   "cell_type": "code",
   "execution_count": 36,
   "id": "c1065ff7",
   "metadata": {},
   "outputs": [
    {
     "name": "stdout",
     "output_type": "stream",
     "text": [
      "SNR (noisy)   : -17.96 dB\n",
      "SNR (denoised): -9.77 dB\n",
      "\n"
     ]
    }
   ],
   "source": [
    "snr_noisy    = compute_snr(y_clean, y_noisy)\n",
    "snr_denoised = compute_snr(y_clean, y_denoised)\n",
    "print(f\"SNR (noisy)   : {snr_noisy:.2f} dB\")\n",
    "print(f\"SNR (denoised): {snr_denoised:.2f} dB\\n\")"
   ]
  }
 ],
 "metadata": {
  "kernelspec": {
   "display_name": "Deep-Learning",
   "language": "python",
   "name": "python3"
  },
  "language_info": {
   "codemirror_mode": {
    "name": "ipython",
    "version": 3
   },
   "file_extension": ".py",
   "mimetype": "text/x-python",
   "name": "python",
   "nbconvert_exporter": "python",
   "pygments_lexer": "ipython3",
   "version": "3.10.13"
  }
 },
 "nbformat": 4,
 "nbformat_minor": 5
}
